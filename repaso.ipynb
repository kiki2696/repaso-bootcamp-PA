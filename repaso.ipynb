{
 "cells": [
  {
   "cell_type": "markdown",
   "metadata": {},
   "source": [
    "# 9:00 hs\n",
    "### Comentar como sera la dinamica de la clase, de que explicare algo basico y dare challenges. Luego, el challenge no explicaran los participantes, sino, el que este dando la clase de repaso.\n",
    "### Los ejercicios seran basicos para mejor comprension \n",
    "\n",
    "# Funciones \n",
    "Crear una funcion saludar"
   ]
  },
  {
   "cell_type": "code",
   "execution_count": null,
   "metadata": {},
   "outputs": [],
   "source": [
    "# creamos la funcion saludar\n",
    "def saludar():\n",
    "    nombre = input('Escriba su nombre')\n",
    "    print(f'Hola, mi nombre es {nombre}. Un gusto!')\n",
    "\n",
    "# llamamos a la funcion\n",
    "saludar()\n",
    "saludar()\n"
   ]
  },
  {
   "cell_type": "markdown",
   "metadata": {},
   "source": [
    "# Challenge - 15 minutos\n",
    "\n",
    "Crear una funcion calcular_area_triangulo. \n",
    "Pedir al usuario la base y altura de un triangulo. \n",
    "Luego, imprimir el area del triangulo."
   ]
  },
  {
   "cell_type": "code",
   "execution_count": 5,
   "metadata": {},
   "outputs": [
    {
     "name": "stdout",
     "output_type": "stream",
     "text": [
      "3.0\n"
     ]
    }
   ],
   "source": [
    "# creamos la funcion calcular_area_triangulo\n",
    "def calcular_area_triangulo():\n",
    "\n",
    "    # pedimos los datos correspondientes al usuario\n",
    "    base = int(input('Escriba la base del triaungulo'))\n",
    "    altura = int(input('Escriba la altura del triaungulo'))\n",
    "\n",
    "    # calculamos el area\n",
    "    area = base*altura/2\n",
    "    print(area)\n",
    "\n",
    "# llamamos a la funcion\n",
    "calcular_area_triangulo()\n",
    "\n",
    "    "
   ]
  },
  {
   "cell_type": "markdown",
   "metadata": {},
   "source": [
    "# 9:20\n",
    "# While\n",
    "Contar del 0 al 4\n",
    "\n",
    "Cuando es mejor usar while y for?\n",
    "\n",
    "while cuando nose cuantas veces voy a ejecutar mi bucle\n",
    "for cuando se cuantas cosas voy a ejecutar mi bucle"
   ]
  },
  {
   "cell_type": "code",
   "execution_count": 6,
   "metadata": {},
   "outputs": [
    {
     "name": "stdout",
     "output_type": "stream",
     "text": [
      "0\n",
      "1\n",
      "2\n",
      "3\n",
      "4\n"
     ]
    }
   ],
   "source": [
    "contador = 0\n",
    "\n",
    "while contador <= 4:\n",
    "    print(contador)\n",
    "    contador = contador + 1"
   ]
  },
  {
   "cell_type": "markdown",
   "metadata": {},
   "source": [
    "## Preguntar en clase\n",
    "### Como hago para que me cuente del 1 al 4? \n",
    "### Y del 1 al 5?"
   ]
  },
  {
   "cell_type": "markdown",
   "metadata": {},
   "source": [
    "# Challenge - 15 min\n",
    "Crear la tabla del 2 utilizando un bucle while.\n",
    "\n",
    "Resultado:\n",
    "\n",
    "2 x 1 = 2\n",
    "\n",
    "2 x 2 = 4\n",
    "\n",
    "2 x 3 = 6\n",
    "\n",
    "2 x 4 = 8\n",
    "\n",
    "2 x 5 = 10\n",
    "\n",
    "2 x 6 = 12\n",
    "\n",
    "2 x 7 = 14\n",
    "\n",
    "2 x 8 = 16\n",
    "\n",
    "2 x 9 = 18\n",
    "\n",
    "2 x 10 = 20"
   ]
  },
  {
   "cell_type": "code",
   "execution_count": null,
   "metadata": {},
   "outputs": [],
   "source": [
    "# Inicializamos el multiplicador\n",
    "multiplicador = 1\n",
    "\n",
    "# Usamos un bucle while para imprimir la tabla del 2 hasta 10\n",
    "while multiplicador <= 10:\n",
    "    resultado = 2 * multiplicador\n",
    "    print(f\"2 x {multiplicador} = {resultado}\")\n",
    "    multiplicador = multiplicador + 1\n"
   ]
  },
  {
   "cell_type": "markdown",
   "metadata": {},
   "source": [
    "# 9:40\n",
    "# For \n",
    "Contar del 1 al 5"
   ]
  },
  {
   "cell_type": "code",
   "execution_count": null,
   "metadata": {},
   "outputs": [],
   "source": [
    "# Usar un bucle for para imprimir los números del 0 al 5\n",
    "for numero in range(6):\n",
    "    print(numero)\n"
   ]
  },
  {
   "cell_type": "markdown",
   "metadata": {},
   "source": [
    "# Challenge - 15 min\n",
    "\n",
    "Utilice un bucle while para imprimir la tabla de multiplicar del 5.\n",
    "\n",
    "Resultado esperado:\n",
    "\n",
    "5 x 1 = 5\n",
    "\n",
    "5 x 2 = 10\n",
    "\n",
    "5 x 3 = 15\n",
    "\n",
    "5 x 4 = 20\n",
    "\n",
    "5 x 5 = 25\n",
    "\n",
    "5 x 6 = 30\n",
    "\n",
    "5 x 7 = 35\n",
    "\n",
    "5 x 8 = 40\n",
    "\n",
    "5 x 9 = 45\n",
    "\n",
    "5 x 10 = 50"
   ]
  },
  {
   "cell_type": "code",
   "execution_count": null,
   "metadata": {},
   "outputs": [],
   "source": [
    "# Utilizar un bucle for para imprimir la tabla del 5 hasta 50\n",
    "for multiplicador in range(1, 11):\n",
    "    resultado = 5 * multiplicador\n",
    "    print(f\"5 x {multiplicador} = {resultado}\")"
   ]
  },
  {
   "cell_type": "markdown",
   "metadata": {},
   "source": [
    "# Otra forma de hacer el mismo ejercicio"
   ]
  },
  {
   "cell_type": "code",
   "execution_count": null,
   "metadata": {},
   "outputs": [],
   "source": [
    "for multiplicar in range(10):\n",
    "    multiplicar_1 = multiplicar + 1\n",
    "    resultado = 5 * multiplicar_1\n",
    "    print(f\"5 x {multiplicar_1} = {resultado}\")"
   ]
  },
  {
   "cell_type": "markdown",
   "metadata": {},
   "source": [
    "# 10:00 hs\n",
    "\n",
    "# Challenge - 20 min\n",
    "\n",
    "Utilice un bucle for para iterar a través de una lista de números del 1 al 10. Por cada número, verifica si es par o impar e imprima un mensaje correspondiente.\n",
    "\n",
    "Resultado Esperado:\n",
    "\n",
    "1 es impar\n",
    "\n",
    "2 es par\n",
    "\n",
    "3 es impar\n",
    "\n",
    "4 es par\n",
    "\n",
    "5 es impar\n",
    "\n",
    "6 es par\n",
    "\n",
    "7 es impar\n",
    "\n",
    "8 es par\n",
    "\n",
    "9 es impar\n",
    "\n",
    "10 es par\n",
    "\n",
    "\n"
   ]
  },
  {
   "cell_type": "code",
   "execution_count": null,
   "metadata": {},
   "outputs": [],
   "source": [
    "# Crear una lista de números del 1 al 10\n",
    "numeros = [1, 2, 3, 4, 5, 6, 7, 8, 9, 10]\n",
    "\n",
    "# Utilizar un bucle for para iterar a través de la lista\n",
    "for numero in numeros:\n",
    "    if numero % 2 == 0:\n",
    "        print(f\"{numero} es par.\")\n",
    "    else:\n",
    "        print(f\"{numero} es impar.\")\n"
   ]
  },
  {
   "cell_type": "markdown",
   "metadata": {},
   "source": [
    "# 10:30\n",
    "\n",
    "# Funciones con Return - Dinamica mostrar caja \n",
    "#### Obs: Robando ejemplo del gran Mauro RoDi\n",
    "\n",
    "print: solo podes ver lo que hay dentro de la caja\n",
    "\n",
    "return: podes sacar de la caja lo que deseas, y usar\n"
   ]
  },
  {
   "cell_type": "markdown",
   "metadata": {},
   "source": [
    "# Challenge - 30 min\n",
    "\n",
    "Objetivo:\n",
    "Crear una pequeña aplicación en Python que permita al usuario seleccionar y comprar un manga.\n",
    "\n",
    "Instrucciones:\n",
    "\n",
    "Defina una lista llamada mangas que contenga al menos 4 mangas.\n",
    "\n",
    "Muestra en pantalla la lista de mangas disponibles con sus números correspondientes. Por ejemplo, muestra \"Naruto=0, Shingeki=1, Kimetsu=2, One Piece=3\".\n",
    "\n",
    "Crea una función llamada seleccionar_manga que haga lo siguiente:\n",
    "    Solicite al usuario que ingrese el número del manga que desea seleccionar.\n",
    "    Obtenga el manga seleccionado de la lista mangas.\n",
    "    Muestre en pantalla el manga seleccionado.\n",
    "    Devuelva el manga seleccionado utilizando return.\n",
    "\n",
    "Llama a la función seleccionar_manga para que el usuario seleccione un manga y almacena el manga seleccionado en una variable.\n",
    "\n",
    "Finalmente, pregunte al usuario si lo desea comprar o no.\n",
    "\n"
   ]
  },
  {
   "cell_type": "markdown",
   "metadata": {},
   "source": [
    "# Cabe destacar, que al resolver no se tendran en cuenta validaciones ni manejo de errores para que sea mas simple y se pueda comprender mejor"
   ]
  },
  {
   "cell_type": "code",
   "execution_count": null,
   "metadata": {},
   "outputs": [],
   "source": [
    "# Definición de una lista de mangas disponibles\n",
    "mangas = ['Naruto', 'Shingeki', 'Kimetsu', 'One Piece']\n",
    "\n",
    "# Mostrar la lista de mangas disponibles con sus números correspondientes\n",
    "print('A continuacion se mostraran los mangas disponibles con su numeros correspondientes')\n",
    "print('Naruto=0, Shingeki=1, Kimetsu=2, One Piece=3')\n",
    "\n",
    "# Función para que el usuario seleccione un manga\n",
    "def seleccionar_manga():\n",
    "\n",
    "    # Solicitar al usuario el número del manga seleccionado\n",
    "    manga_a_seleccionar = int(input('Escriba el numero del manga seleccionado'))\n",
    "\n",
    "    # Obtener el manga seleccionado de la lista\n",
    "    manga_seleccionado = mangas[manga_a_seleccionar]\n",
    "    print('')\n",
    "\n",
    "    # Mostrar el manga seleccionado\n",
    "    print(f'El manga seleccionado es {manga_seleccionado}')\n",
    "    return manga_seleccionado\n",
    "\n",
    "# Llamar a la función para que el usuario seleccione un manga\n",
    "manga_seleccionado = seleccionar_manga()\n",
    "\n",
    "# Preguntar si el usuario desea comprar el manga seleccionado\n",
    "print('Desearia comprar el manga seleccionado?')\n",
    "comprar = int(input('No Comprar=0, Comprar=1'))\n",
    "\n",
    "# Realizar una acción según la respuesta del usuario\n",
    "if comprar == 1:\n",
    "    print(f'Usted compro el manga {manga_seleccionado}')\n",
    "else:\n",
    "    print('Usted no compro ningun manga')\n",
    "\n"
   ]
  },
  {
   "cell_type": "markdown",
   "metadata": {},
   "source": [
    "# Teniendo en cuenta validaciones de entrada y manejo de errores (esto no se socializara, pero se puede andar al discord como ejemplo)\n"
   ]
  },
  {
   "cell_type": "code",
   "execution_count": null,
   "metadata": {},
   "outputs": [],
   "source": [
    "\n",
    "mangas = ['Naruto', 'Shingeki', 'Kimetsu', 'One Piece']\n",
    "\n",
    "print('A continuación se mostrarán los mangas disponibles con sus números correspondientes:')\n",
    "for i, manga in enumerate(mangas):\n",
    "    print(f'{manga} = {i}')\n",
    "\n",
    "def analizar_manga():\n",
    "    while True:\n",
    "        try:\n",
    "            manga_a_seleccionar = int(input('Escriba el número del manga seleccionado: '))\n",
    "            if 0 <= manga_a_seleccionar < len(mangas):\n",
    "                manga_seleccionado = mangas[manga_a_seleccionar]\n",
    "                print(f'\\nEl manga seleccionado es {manga_seleccionado}')\n",
    "                return manga_seleccionado\n",
    "            else:\n",
    "                print('Número de manga fuera de rango. Intente nuevamente.')\n",
    "        except ValueError:\n",
    "            print('Entrada no válida. Ingrese un número válido.')\n",
    "\n",
    "manga_seleccionado = analizar_manga()\n",
    "\n",
    "print('\\n¿Desea comprar el manga seleccionado?')\n",
    "while True:\n",
    "    try:\n",
    "        comprar = int(input('No Comprar = 0, Comprar = 1: '))\n",
    "        if comprar == 1:\n",
    "            print(f'Usted compró el manga {manga_seleccionado}.')\n",
    "        elif comprar == 0:\n",
    "            print('Usted no compró ningún manga.')\n",
    "        else:\n",
    "            print('Opción no válida. Intente nuevamente.')\n",
    "        break\n",
    "    except ValueError:\n",
    "        print('Entrada no válida. Ingrese 0 o 1.')\n"
   ]
  },
  {
   "cell_type": "markdown",
   "metadata": {},
   "source": [
    "# 11:15"
   ]
  },
  {
   "cell_type": "markdown",
   "metadata": {},
   "source": [
    "# Challenge - 20 min\n",
    "\n",
    "### Calculadora de Propina\n",
    "Objetivo: En este ejercicio, vamos a crear una calculadora que permita a los usuarios calcular la cantidad de propina a dejar en un restaurante.\n",
    "\n",
    "### Instrucciones:\n",
    "1 - Pide al usuario que ingrese el total de la cuenta del restaurante.\n",
    "\n",
    "2 - Calcula la cantidad de propina como el 15% del total de la cuenta.\n",
    "\n",
    "3 - Muestra la cantidad de propina en pantalla.\n",
    "\n",
    "4 - Pregunta al usuario si desea calcular la propina para otra cuenta. Si responde afirmativamente, vuelva al paso 1. Si responde negativamente, muestra un mensaje de despedida y finaliza el programa."
   ]
  },
  {
   "cell_type": "code",
   "execution_count": null,
   "metadata": {},
   "outputs": [],
   "source": [
    "\n",
    "while True:\n",
    "    # Solicitar al usuario el total de la cuenta del restaurante\n",
    "    total_cuenta = float(input(\"Por favor, ingrese el total de la cuenta del restaurante: \"))\n",
    "\n",
    "    print(f\"Su cuenta es: ${total_cuenta}\")\n",
    "\n",
    "    # Calcular la cantidad de propina (15% del total de la cuenta)\n",
    "    propina = total_cuenta * 0.15\n",
    "\n",
    "    # Mostrar la cantidad de propina\n",
    "    print(f\"La cantidad de propina a dejar es: ${propina}\")\n",
    "\n",
    "    # Preguntar si el usuario desea calcular la propina para otra cuenta\n",
    "    # lower() que no se distinga entre mayúsculas y minúsculas\n",
    "    respuesta = input(\"¿Desea calcular la propina para otra cuenta? (s/n): \").lower()  \n",
    "    if respuesta != 's':\n",
    "        break  # Salir del bucle si la respuesta no es 's'\n",
    "\n",
    "# Mensaje de despedida\n",
    "print(\"Gracias por usar la Calculadora de Propina. ¡Hasta luego!\")\n"
   ]
  },
  {
   "cell_type": "markdown",
   "metadata": {},
   "source": [
    "# En caso de que haya aun tiempo, que continuen con el Wordle"
   ]
  }
 ],
 "metadata": {
  "kernelspec": {
   "display_name": "Python 3",
   "language": "python",
   "name": "python3"
  },
  "language_info": {
   "codemirror_mode": {
    "name": "ipython",
    "version": 3
   },
   "file_extension": ".py",
   "mimetype": "text/x-python",
   "name": "python",
   "nbconvert_exporter": "python",
   "pygments_lexer": "ipython3",
   "version": "3.10.7"
  },
  "orig_nbformat": 4
 },
 "nbformat": 4,
 "nbformat_minor": 2
}
